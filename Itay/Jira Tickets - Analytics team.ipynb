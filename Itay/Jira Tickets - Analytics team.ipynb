{
 "cells": [
  {
   "cell_type": "code",
   "execution_count": null,
   "id": "8230b616",
   "metadata": {},
   "outputs": [],
   "source": [
    "%run '/Users/itaymi/Desktop/Python/Functions.ipynb'\n",
    "display(HTML('<style>.container{width:100% !important;}</style>'))"
   ]
  },
  {
   "cell_type": "markdown",
   "id": "f0879880-a13c-4c1b-aef1-558f3a7057d7",
   "metadata": {},
   "source": [
    "#### Dates range"
   ]
  },
  {
   "cell_type": "code",
   "execution_count": null,
   "id": "65954c5f-ad2e-4f25-9684-8d7416811e49",
   "metadata": {},
   "outputs": [],
   "source": [
    "history = 150\n",
    "from_date = (date.today() - timedelta(days = history)).strftime('%Y-%m-%d')\n",
    "to_date   = date.today().strftime('%Y-%m-%d')\n",
    "\n",
    "print(f'{from_date} to {to_date}')"
   ]
  },
  {
   "cell_type": "markdown",
   "id": "5117008e-b52b-402a-86a0-ef74b0b7c950",
   "metadata": {},
   "source": [
    "#### Define team members"
   ]
  },
  {
   "cell_type": "code",
   "execution_count": null,
   "id": "2989d2e1-de00-4f33-ab28-c3c518e08ead",
   "metadata": {},
   "outputs": [],
   "source": [
    "team_members = ['Itay Milner',\n",
    "                'Jenna Israelsohn',\n",
    "                'Ofir Weisfeld',\n",
    "                'Tal Rath',\n",
    "                'Shir Zaltsman']"
   ]
  },
  {
   "cell_type": "markdown",
   "id": "bbde0d06-555c-4220-b714-ad848bd8d599",
   "metadata": {},
   "source": [
    "#### Jira API"
   ]
  },
  {
   "cell_type": "code",
   "execution_count": null,
   "id": "c0850e4a",
   "metadata": {},
   "outputs": [],
   "source": [
    "j = pd.read_csv('jira_pass.csv')\n",
    "\n",
    "JIRA_URL, JIRA_USERNAME, JIRA_API_TOKEN = j.at[0,'jira'], j.at[1,'jira'], j.at[2,'jira']\n",
    "\n",
    "session = requests.Session()\n",
    "session.auth = (JIRA_USERNAME, JIRA_API_TOKEN)\n",
    "\n",
    "start_at, max_results = 0, 100\n",
    "issues = []\n",
    "\n",
    "while True:\n",
    "    JQL_QUERY = f'project = DATA AND created >= {from_date} AND created <= {to_date} ORDER BY created DESC'\n",
    "    \n",
    "    params = {'jql':JQL_QUERY, 'startAt':start_at, 'maxResults':max_results}\n",
    "    \n",
    "    response = session.get(f'{JIRA_URL}search', params = params)\n",
    "    \n",
    "    if response.status_code == 200:\n",
    "        batch_issues = response.json()['issues']\n",
    "        issues.extend(batch_issues) \n",
    "\n",
    "        if len(batch_issues) < max_results:\n",
    "            break\n",
    "\n",
    "        start_at += max_results\n",
    "    else:\n",
    "        print(f'Error: {response.status_code} - {response.text}')\n",
    "        break\n",
    "\n",
    "key,summary,status,created,sprint,reporter,email,assignee,team,rapyd_bu,department,story_points,issue_type = [],[],[],[],[],[],[],[],[],[],[],[],[]\n",
    "\n",
    "for issue in issues:\n",
    "    key.append(issue['key'])\n",
    "    summary.append(issue['fields']['summary'])\n",
    "    status.append(issue['fields']['status']['name'])\n",
    "    created.append(issue['fields']['created'])\n",
    "    sprint.append(issue['fields'].get('customfield_10113', None))\n",
    "    reporter.append(issue['fields']['reporter']['displayName'] if issue['fields']['reporter'] else None)\n",
    "    email.append(issue['fields']['reporter']['emailAddress'] if issue['fields']['reporter'] else None)\n",
    "    assignee.append(issue['fields']['assignee']['displayName'] if issue['fields']['assignee'] else None)\n",
    "    team.append(issue['fields']['customfield_10703']['value'] if issue['fields']['customfield_10703'] else None)\n",
    "    rapyd_bu.append(issue['fields']['customfield_11671']['value'] if issue['fields']['customfield_11671'] else None)\n",
    "    department.append(issue['fields']['customfield_10623']['value'] if issue['fields']['customfield_10623'] else None)\n",
    "    story_points.append(issue['fields'].get('customfield_10595', None))\n",
    "    issue_type.append(issue['fields']['issuetype']['name'])\n",
    "\n",
    "data = {'issue_key':key,'summary':summary, 'status':status, 'created':created, 'sprint':sprint,\n",
    "        'reporter':reporter, 'reporter_email':email, 'assignee':assignee, 'team':team, 'business_unit':rapyd_bu, \n",
    "        'department':department, 'story_points':story_points, 'issue_type': issue_type}\n",
    "\n",
    "jira = pd.DataFrame(data)\n",
    "\n",
    "jira['created'] = pd.to_datetime(jira['created'].str.split('T').str[0] + ' 00:00:00')\n",
    "\n",
    "jira['sprint'] = jira['sprint'].apply(lambda x: x[0]['name'] if isinstance(x,list) and len(x) > 0 and 'name' in x[0] else None)\n",
    "\n",
    "jira['story_points'] = pd.to_numeric(jira['story_points'])\n",
    "\n",
    "# keep only relevant tickets\n",
    "df = jira[(jira.assignee.isin(team_members)) | \n",
    "          (jira.team == 'Analytics') | \n",
    "          ((jira.team.isnull()) & (jira.assignee.isnull()))].copy()\n",
    "\n",
    "df = df[df.status != \"Won't Do\"].reset_index(drop = True).copy()\n",
    "\n",
    "df.head(3)"
   ]
  },
  {
   "cell_type": "markdown",
   "id": "aa984b30-924e-41fc-b1d6-901ce560ffa0",
   "metadata": {},
   "source": [
    "#### Conditions"
   ]
  },
  {
   "cell_type": "code",
   "execution_count": null,
   "id": "f0737200-c8fe-4109-a69f-f78fd79b1028",
   "metadata": {},
   "outputs": [],
   "source": [
    "df.loc[(df.assignee.isin(team_members)) & (df.team == 'Analytics') & (df.story_points.isnull()), 'case'] = 'No story points'\n",
    "\n",
    "df.loc[(df.assignee.isin(team_members)) & (df.team == 'Analytics') & (df.sprint.isnull()), 'case'] = 'No sprint'\n",
    "\n",
    "df.loc[(df.assignee.isin(team_members)) & (df.team != 'Analytics'), 'case'] = 'Wrong team name'\n",
    "\n",
    "df.loc[(df.assignee.isin(team_members)) & (df.team.isnull()), 'case'] = 'No team name'\n",
    "\n",
    "df.loc[(df.assignee.isnull()) & (df.team == 'Analytics'), 'case'] = 'Backlog'\n",
    "\n",
    "df.loc[(df.assignee.isnull()) & (df.team == 'Analytics') & df.sprint.notnull(), 'case'] = 'No assignee'\n",
    "\n",
    "value_counts_2(df, 'case', drop_null = True)"
   ]
  },
  {
   "cell_type": "code",
   "execution_count": null,
   "id": "39c76750",
   "metadata": {},
   "outputs": [],
   "source": [
    "cols = ['case','issue_key','summary','status','created','sprint','reporter','assignee','team','story_points','issue_type']\n",
    "\n",
    "final = df[df.case.notnull()][cols].sort_values(by = ['case','assignee'], ascending = False, ignore_index = True).copy()\n",
    "\n",
    "final[final.status != 'Done'].sort_values(by = 'assignee')"
   ]
  },
  {
   "cell_type": "code",
   "execution_count": null,
   "id": "2f935930-a08e-4438-b3e4-3697b3f42f10",
   "metadata": {},
   "outputs": [],
   "source": []
  }
 ],
 "metadata": {
  "hide_input": false,
  "kernelspec": {
   "display_name": "Python 3 (ipykernel)",
   "language": "python",
   "name": "python3"
  },
  "language_info": {
   "codemirror_mode": {
    "name": "ipython",
    "version": 3
   },
   "file_extension": ".py",
   "mimetype": "text/x-python",
   "name": "python",
   "nbconvert_exporter": "python",
   "pygments_lexer": "ipython3",
   "version": "3.11.5"
  },
  "toc": {
   "base_numbering": 1,
   "nav_menu": {},
   "number_sections": true,
   "sideBar": true,
   "skip_h1_title": false,
   "title_cell": "Table of Contents",
   "title_sidebar": "Contents",
   "toc_cell": false,
   "toc_position": {},
   "toc_section_display": true,
   "toc_window_display": false
  }
 },
 "nbformat": 4,
 "nbformat_minor": 5
}
